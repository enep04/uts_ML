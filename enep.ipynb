{
 "cells": [
  {
   "cell_type": "markdown",
   "metadata": {},
   "source": [
    "1.Machine Learning adalah cabang dari kecerdasan buatan (AI) yang memungkinkan sistem untuk belajar dan memperbaiki diri dari pengalaman tanpa diprogram secara eksplisit. Algoritma machine learning menggunakan data historis sebagai input untuk memprediksi nilai output baru.\n"
   ]
  },
  {
   "cell_type": "markdown",
   "metadata": {},
   "source": [
    "2.Contoh penerapan Machine Learning dalam kehidupan sehari-hari termasuk rekomendasi produk di platform e-commerce seperti Amazon atau rekomendasi film di Netflix. Machine Learning dibutuhkan karena dapat menganalisis pola dari data pengguna dan memberikan rekomendasi yang dipersonalisasi, meningkatkan pengalaman pengguna dan mendorong penjualan atau engagement."
   ]
  },
  {
   "cell_type": "markdown",
   "metadata": {},
   "source": [
    "3.>. Supervised Learning: Model dilatih menggunakan data berlabel. Contoh: regresi linier, decision trees.\n",
    ">. Unsupervised Learning: Model dilatih menggunakan data yang tidak berlabel. Contoh: clustering, association.\n",
    ">. Semi-supervised Learning: Menggunakan campuran data berlabel dan tidak berlabel untuk pelatihan.\n",
    ">. Reinforcement Learning: Model belajar dengan cara mendapatkan reward atau punishment atas tindakan yang diambil. Contoh: Q-Learning.\n"
   ]
  },
  {
   "cell_type": "markdown",
   "metadata": {},
   "source": [
    "Studi Kasus"
   ]
  },
  {
   "cell_type": "markdown",
   "metadata": {},
   "source": [
    "a) Berapa rata-rata mahasiswa datang pada minggu ini? Jumlah mahasiswa yang datang pada minggu ini adalah 28. Rata-rata mahasiswa yang datang adalah 28 / 7 = 4 orang per hari.\n",
    "\n",
    "b) Kapan biaya tertinggi terjadi? Biaya tertinggi terjadi pada hari Sabtu dengan total biaya 150000, 105000, dan 50000 untuk Ani, Budi, dan Jono.\n",
    "\n",
    "c) Hari apa biaya lebih dari 110000? Hanya hari Selasa dan Sabtu yang memiliki total biaya lebih dari 110000.\n",
    "\n",
    "d) Siapa yang paling banyak datang ke kampus? Joni adalah mahasiswa yang paling banyak datang ke kampus dengan total kedatangan 9 kali.\n",
    "\n",
    "e) Siapa yang datang pada hari minggu? Ani dan Budi adalah mahasiswa yang datang pada hari Minggu.\n",
    "\n",
    "f) Berapa biaya tertinggi dan terendah? Biaya tertinggi adalah 150000 (Sabtu, Ani) dan biaya terendah adalah 15000 (Kamis, Lono).\n",
    "\n",
    "g) Berapa frekuensi datang tertinggi dan terendah? Frekuensi datang tertinggi adalah 5 (Sabtu, Ani) dan frekuensi datang terendah adalah 1 (Kamis, Lono, Joni, dan Budi)."
   ]
  },
  {
   "cell_type": "markdown",
   "metadata": {},
   "source": [
    "Studi Kasus\n",
    "2."
   ]
  },
  {
   "cell_type": "code",
   "execution_count": 9,
   "metadata": {},
   "outputs": [
    {
     "ename": "ModuleNotFoundError",
     "evalue": "No module named 'seaborn'",
     "output_type": "error",
     "traceback": [
      "\u001b[0;31m---------------------------------------------------------------------------\u001b[0m",
      "\u001b[0;31mModuleNotFoundError\u001b[0m                       Traceback (most recent call last)",
      "Cell \u001b[0;32mIn[9], line 2\u001b[0m\n\u001b[1;32m      1\u001b[0m \u001b[38;5;28;01mimport\u001b[39;00m \u001b[38;5;21;01mmatplotlib\u001b[39;00m\u001b[38;5;21;01m.\u001b[39;00m\u001b[38;5;21;01mpyplot\u001b[39;00m \u001b[38;5;28;01mas\u001b[39;00m \u001b[38;5;21;01mplt\u001b[39;00m\n\u001b[0;32m----> 2\u001b[0m \u001b[38;5;28;01mimport\u001b[39;00m \u001b[38;5;21;01mseaborn\u001b[39;00m \u001b[38;5;28;01mas\u001b[39;00m \u001b[38;5;21;01msns\u001b[39;00m\n\u001b[1;32m      3\u001b[0m \u001b[38;5;28;01mimport\u001b[39;00m \u001b[38;5;21;01mpandas\u001b[39;00m \u001b[38;5;28;01mas\u001b[39;00m \u001b[38;5;21;01mpd\u001b[39;00m\n\u001b[1;32m      5\u001b[0m \u001b[38;5;66;03m# Mendefinisikan data\u001b[39;00m\n",
      "\u001b[0;31mModuleNotFoundError\u001b[0m: No module named 'seaborn'"
     ]
    }
   ],
   "source": [
    "import matplotlib.pyplot as plt\n",
    "import pandas as pd\n",
    "\n",
    "# Mendefinisikan data\n",
    "data = {\n",
    "    \"fakultas\": [\"Bisnis\", \"D3 Perhotelan\", \"ICT\", \"Ilmu Komunikasi\", \"Seni dan Desain\"],\n",
    "    \"jumlah_mahasiswa\": [260, 28, 284, 465, 735],\n",
    "    \"akreditasi\": [\"A\", \"A\", \"B\", \"A\", \"A\"]\n",
    "}\n",
    "\n",
    "# Membuat DataFrame\n",
    "info_mahasiswa = pd.DataFrame(data)\n",
    "print(info_mahasiswa)  # Opsional: Untuk memeriksa DataFrame\n",
    "\n",
    "# Membuat plot\n",
    "plt.figure(figsize=(10,2))\n",
    "sns.barplot(data=info_mahasiswa, x=\"fakultas\", y=\"jumlah_mahasiswa\", palette=\"viridis\")\n",
    "\n",
    "# Menambahkan judul dan label\n",
    "plt.title(\"Jumlah Mahasiswa per Fakultas\")\n",
    "plt.xlabel(\"Fakultas\")\n",
    "plt.ylabel(\"Jumlah Mahasiswa\")\n",
    "\n",
    "# Menampilkan plot\n",
    "plt.show()"
   ]
  }
 ],
 "metadata": {
  "kernelspec": {
   "display_name": "Python 3",
   "language": "python",
   "name": "python3"
  },
  "language_info": {
   "codemirror_mode": {
    "name": "ipython",
    "version": 3
   },
   "file_extension": ".py",
   "mimetype": "text/x-python",
   "name": "python",
   "nbconvert_exporter": "python",
   "pygments_lexer": "ipython3",
   "version": "3.9.6"
  }
 },
 "nbformat": 4,
 "nbformat_minor": 2
}
